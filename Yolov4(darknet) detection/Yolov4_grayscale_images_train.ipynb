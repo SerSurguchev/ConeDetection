{
  "nbformat": 4,
  "nbformat_minor": 0,
  "metadata": {
    "colab": {
      "name": "Yolov4_grayscale_train.ipynb",
      "provenance": [],
      "collapsed_sections": []
    },
    "kernelspec": {
      "name": "python3",
      "display_name": "Python 3"
    },
    "language_info": {
      "name": "python"
    },
    "accelerator": "GPU"
  },
  "cells": [
    {
      "cell_type": "code",
      "metadata": {
        "id": "VWDOpTbRZV2d"
      },
      "source": [
        "from google.colab import drive \n",
        "drive.mount(\"/content/drive\", force_remount=True)\n",
        "\n",
        "# this creates a symbolic link so that now the path /content/gdrive/My\\ Drive/ is equal to /mydrive\n",
        "!ln -s /content/gdrive/My\\ Drive/ /mydrive"
      ],
      "execution_count": null,
      "outputs": []
    },
    {
      "cell_type": "code",
      "metadata": {
        "id": "AbJAxGC6fbzm"
      },
      "source": [
        "!nvidia-smi"
      ],
      "execution_count": null,
      "outputs": []
    },
    {
      "cell_type": "code",
      "metadata": {
        "id": "_fYty5NcZcCo"
      },
      "source": [
        "!/usr/local/cuda/bin/nvcc --version"
      ],
      "execution_count": null,
      "outputs": []
    },
    {
      "cell_type": "code",
      "metadata": {
        "id": "xVv3Ee0XZugI"
      },
      "source": [
        "import os \n",
        "import shutil\n",
        "import glob\n",
        "!pip install opencv-python==3.4.13.47 \n",
        "import cv2\n",
        "!pip install opencv-contrib-python==3.4.13.47 --force-reinstall"
      ],
      "execution_count": null,
      "outputs": []
    },
    {
      "cell_type": "code",
      "metadata": {
        "id": "XS2fve0-wQCX"
      },
      "source": [
        "cv2.__version__"
      ],
      "execution_count": null,
      "outputs": []
    },
    {
      "cell_type": "code",
      "metadata": {
        "id": "oD5TVUkOZxfe"
      },
      "source": [
        "%cd /content/\n",
        "%rm -rf darknet"
      ],
      "execution_count": null,
      "outputs": []
    },
    {
      "cell_type": "code",
      "metadata": {
        "id": "cVVhyo4fZ5fs"
      },
      "source": [
        "!git clone https://github.com/AlexeyAB/darknet.git\n",
        "%cd darknet/"
      ],
      "execution_count": null,
      "outputs": []
    },
    {
      "cell_type": "code",
      "metadata": {
        "id": "YE8E0GtnlK2Y"
      },
      "source": [
        "!sed -i '1s/GPU=0/GPU=1/' Makefile \n",
        "!sed -i '2s/CUDNN=0/CUDNN=1/' Makefile \n",
        "!sed -i '4s/OPENCV=0/OPENCV=1/' Makefile \n",
        "!sed -i '6s/OPENMP=0/OPENMP=1/' Makefile \n",
        "!sed -i '7s/LIBSO=0/LIBSO=1/' Makefile\n",
        "!sed -i '17s/USE_CPP=0/USE_CPP=1/' Makefile\n",
        "\n",
        "!make -j8\n",
        "!chmod +x ./darknet"
      ],
      "execution_count": null,
      "outputs": []
    },
    {
      "cell_type": "code",
      "metadata": {
        "id": "jrjk2RSKjPBA"
      },
      "source": [
        "!wget -P build/darknet/x64/ https://github.com/AlexeyAB/darknet/releases/download/darknet_yolo_v3_optimal/yolov4.conv.137 "
      ],
      "execution_count": null,
      "outputs": []
    },
    {
      "cell_type": "code",
      "metadata": {
        "id": "Ezbgie6WmgNT"
      },
      "source": [
        "%cp cfg/yolov4-custom.cfg cfg/yolo-obj.cfg\n",
        "\n",
        "!sed -i '7s/subdivisions=16/subdivisions=32/g' cfg/yolo-obj.cfg\n",
        "\n",
        "!sed -i 's/width=416/width=608/g' cfg/yolo-obj.cfg\n",
        "!sed -i 's/height=416/height=608/g' cfg/yolo-obj.cfg\n",
        "\n",
        "!sed -i '10s/channels=3/channels=1/' cfg/yolo-obj.cfg\n",
        "!sed -i '20s/max_batches = 500500/max_batches = 2000/' cfg/yolo-obj.cfg\n",
        "!sed -i '22s/steps=400000,450000/steps=1600,1800/' cfg/yolo-obj.cfg\n",
        "\n",
        "!sed -i '970 s@classes=80@classes=1@' cfg/yolo-obj.cfg\n",
        "!sed -i '1058 s@classes=80@classes=1@' cfg/yolo-obj.cfg\n",
        "!sed -i '1146 s@classes=80@classes=1@' cfg/yolo-obj.cfg\n",
        "\n",
        "!sed -i '963 s@filters=255@filters=18@' cfg/yolo-obj.cfg\n",
        "!sed -i '1051 s@filters=255@filters=18@' cfg/yolo-obj.cfg\n",
        "!sed -i '1139 s@filters=255@filters=18@' cfg/yolo-obj.cfg\n",
        "\n",
        "!sed -i '973 s@ignore_thresh = .7@ignore_thresh = .9@' cfg/yolo-obj.cfg\n",
        "!sed -i '978 s@iou_normalizer=0.07@iou_normalizer=0.5@' cfg/yolo-obj.cfg\n",
        "!sed -i '979 s@iou_loss=ciou@iou_loss=giou@' cfg/yolo-obj.cfg\n",
        "\n",
        "!sed -i '1061 s@ignore_thresh = .7@ignore_thresh = .9@' cfg/yolo-obj.cfg\n",
        "!sed -i '1066 s@iou_normalizer=0.07@iou_normalizer=0.5@' cfg/yolo-obj.cfg\n",
        "!sed -i '1067 s@iou_loss=ciou@iou_loss=giou@' cfg/yolo-obj.cfg\n",
        "\n",
        "!sed -i '1149 s@ignore_thresh = .7@ignore_thresh = .9@' cfg/yolo-obj.cfg\n",
        "!sed -i '1155 s@iou_normalizer=0.07@iou_normalizer=0.5@' cfg/yolo-obj.cfg\n",
        "!sed -i '1156 s@iou_loss=ciou@iou_loss=giou@' cfg/yolo-obj.cfg\n"
      ],
      "execution_count": null,
      "outputs": []
    },
    {
      "cell_type": "code",
      "metadata": {
        "id": "6mNMdib7ZU6N"
      },
      "source": [
        "# changes check\n",
        "# !cat cfg/yolo-obj.cfg"
      ],
      "execution_count": null,
      "outputs": []
    },
    {
      "cell_type": "code",
      "metadata": {
        "id": "8bjHeLQcb0yQ"
      },
      "source": [
        "%mkdir build/darknet/x64/data/obj"
      ],
      "execution_count": null,
      "outputs": []
    },
    {
      "cell_type": "code",
      "metadata": {
        "id": "dbJL8GvZfzRF"
      },
      "source": [
        "all_classes = \"\"\"cone\n",
        "\"\"\"\n",
        "\n",
        "file = \"\"\"text_file = open(\"build/darknet/x64/data/obj/classes.txt\", \"w\");text_file.write(all_classes);text_file.close()\"\"\" \n",
        "\n",
        "exec(file)"
      ],
      "execution_count": null,
      "outputs": []
    },
    {
      "cell_type": "code",
      "metadata": {
        "id": "WZKnajf6ZWNg"
      },
      "source": [
        "all_classes = \"\"\"cone\n",
        "\"\"\"\n",
        "\n",
        "file = \"\"\"text_file = open(\"build/darknet/x64/data/obj.names\", \"w\");text_file.write(all_classes);text_file.close()\"\"\" \n",
        "\n",
        "exec(file)"
      ],
      "execution_count": null,
      "outputs": []
    },
    {
      "cell_type": "code",
      "metadata": {
        "id": "87tVIkA_bkPB"
      },
      "source": [
        "!echo -e 'classes = 1\\ntrain  = build/darknet/x64/data/train.txt\\nvalid  = build/darknet/x64/data/test.txt\\nnames = build/darknet/x64/data/obj.names\\nbackup = /content/drive/My Drive/backup/' > build/darknet/x64/data/obj.data"
      ],
      "execution_count": null,
      "outputs": []
    },
    {
      "cell_type": "code",
      "metadata": {
        "colab": {
          "base_uri": "https://localhost:8080/"
        },
        "id": "9qzYJXwobrgJ",
        "outputId": "7ac113f4-01e5-4237-e35a-d682685b23e6"
      },
      "source": [
        "# check\n",
        "!cat build/darknet/x64/data/obj.data\n",
        "print()\n",
        "!cat build/darknet/x64/data/obj.names"
      ],
      "execution_count": null,
      "outputs": [
        {
          "output_type": "stream",
          "name": "stdout",
          "text": [
            "classes = 1\n",
            "train  = build/darknet/x64/data/train.txt\n",
            "valid  = build/darknet/x64/data/test.txt\n",
            "names = build/darknet/x64/data/obj.names\n",
            "backup = /content/drive/My Drive/backup/\n",
            "\n",
            "cone\n"
          ]
        }
      ]
    },
    {
      "cell_type": "code",
      "metadata": {
        "id": "1eajigrvkUw9"
      },
      "source": [
        "dir = '/content/drive/My Drive/backup/'\n",
        "if not os.path.exists(dir):\n",
        "    os.makedirs(dir)"
      ],
      "execution_count": null,
      "outputs": []
    },
    {
      "cell_type": "code",
      "metadata": {
        "id": "Ea2aHaq-fEjF"
      },
      "source": [
        "%cp -a cfg/yolo-obj.cfg '/content/drive/My Drive/backup/'\n",
        "%cp -a build/darknet/x64/data/obj.names '/content/drive/My Drive/backup/'\n",
        "%cp build/darknet/x64/data/obj/classes.txt '/content/drive/My Drive/backup/'"
      ],
      "execution_count": null,
      "outputs": []
    },
    {
      "cell_type": "code",
      "metadata": {
        "id": "bOlxc6QycFtQ"
      },
      "source": [
        "yolo_dir = '/content/drive/My Drive/yolov/dataset_grayscale'\n",
        "if not os.path.exists(yolo_dir):\n",
        "    os.makedirs(yolo_dir)"
      ],
      "execution_count": null,
      "outputs": []
    },
    {
      "cell_type": "code",
      "metadata": {
        "id": "B7YIIPHPcPJp"
      },
      "source": [
        "# !unzip '/content/drive/My Drive/yolov/dataset_grayscale.zip' -d '/content/drive/My Drive/yolov/'"
      ],
      "execution_count": null,
      "outputs": []
    },
    {
      "cell_type": "code",
      "metadata": {
        "id": "C_pHe1slew0d"
      },
      "source": [
        "!find '/content/drive/My Drive/yolov/dataset_grayscale' -name '*.jpg' -exec cp -prv '{}' 'build/darknet/x64/data/obj' ';'\n",
        "!find '/content/drive/My Drive/yolov/dataset_grayscale' -name '*.txt' -exec cp -prv '{}' 'build/darknet/x64/data/obj' ';'"
      ],
      "execution_count": null,
      "outputs": []
    },
    {
      "cell_type": "code",
      "metadata": {
        "id": "hRcGvj9yfC6y"
      },
      "source": [
        "# 7748 images\n",
        "%ls build/darknet/x64/data/obj/*.jpg | wc -l\n",
        "\n",
        "# 7748 labels + 1 classes.txt file\n",
        "%ls build/darknet/x64/data/obj/*.txt | wc -l"
      ],
      "execution_count": null,
      "outputs": []
    },
    {
      "cell_type": "code",
      "metadata": {
        "id": "f3N-iLRkgmVJ"
      },
      "source": [
        "!echo -n > build/darknet/x64/data/train.txt\n",
        "!echo -n > build/darknet/x64/data/test.txt\n",
        "images = glob.glob('build/darknet/x64/data/obj/*.jpg')"
      ],
      "execution_count": null,
      "outputs": []
    },
    {
      "cell_type": "code",
      "metadata": {
        "id": "z_AUGXrUjEFw"
      },
      "source": [
        "train_file = open(\"build/darknet/x64/data/train.txt\", \"w\")\n",
        "test_file = open(\"build/darknet/x64/data/test.txt\", \"w\")\n",
        "\n",
        "for j in images:\n",
        "    if np.random.uniform(0,1) < 0.8:\n",
        "        train_file.write(j + '\\n')\n",
        "    else:\n",
        "        test_file.write(j + '\\n')\n",
        "\n",
        "train_file.close()\n",
        "test_file.close()"
      ],
      "execution_count": null,
      "outputs": []
    },
    {
      "cell_type": "code",
      "metadata": {
        "id": "AqBuQjUrjJw4"
      },
      "source": [
        "!cat -n build/darknet/x64/data/train.txt | sed '1,5!d'\n",
        "print()\n",
        "!cat -n build/darknet/x64/data/test.txt | sed '1,5!d'"
      ],
      "execution_count": null,
      "outputs": []
    },
    {
      "cell_type": "code",
      "metadata": {
        "id": "FOUE3BpTjMCh"
      },
      "source": [
        "#Count number of files \n",
        "!wc -l build/darknet/x64/data/train.txt\n",
        "!wc -l build/darknet/x64/data/test.txt"
      ],
      "execution_count": null,
      "outputs": []
    },
    {
      "cell_type": "code",
      "metadata": {
        "id": "SWF8pAilj0r5"
      },
      "source": [
        "!./darknet detector train build/darknet/x64/data/obj.data cfg/yolo-obj.cfg build/darknet/x64/yolov4.conv.137 -dont_show -map | tee results.log"
      ],
      "execution_count": null,
      "outputs": []
    },
    {
      "cell_type": "code",
      "metadata": {
        "id": "jcuXGDvdRfhk"
      },
      "source": [
        "# %mkdir video_frames \n",
        "\n",
        "# def split_into_frames(video_file, pathOut):\n",
        "#     vid = cv2.VideoCapture(video_file)\n",
        "#     count = 0\n",
        "#     while vid.isOpened():\n",
        "#         success, frame = vid.read()\n",
        "#         if success == False:\n",
        "#             break\n",
        "#         print('Read a new frame', success, count)\n",
        "#         if count % 600 == 0:\n",
        "#             cv2.imwrite(f'{pathOut}/frame_{count}.jpg', frame)\n",
        "#         count += 1\n",
        "\n",
        "# pathOut = 'video_frames'\n",
        "# split_into_frames(video_file, pathOut)"
      ],
      "execution_count": null,
      "outputs": []
    }
  ]
}
