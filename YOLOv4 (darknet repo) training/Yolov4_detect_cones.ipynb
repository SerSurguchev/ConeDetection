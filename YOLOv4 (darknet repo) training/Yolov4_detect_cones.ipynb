{
  "nbformat": 4,
  "nbformat_minor": 0,
  "metadata": {
    "colab": {
      "name": "Yolov4_detect_cones.ipynb\"",
      "provenance": [],
      "collapsed_sections": []
    },
    "kernelspec": {
      "name": "python3",
      "display_name": "Python 3"
    },
    "language_info": {
      "name": "python"
    },
    "accelerator": "GPU"
  },
  "cells": [
    {
      "cell_type": "code",
      "metadata": {
        "colab": {
          "base_uri": "https://localhost:8080/"
        },
        "id": "HkSedKwgw15A",
        "outputId": "69d9de16-3c71-4d45-b2c3-1a56269a8f71"
      },
      "source": [
        "from google.colab import drive \n",
        "drive.mount(\"/content/drive\", force_remount=True)"
      ],
      "execution_count": null,
      "outputs": [
        {
          "output_type": "stream",
          "name": "stdout",
          "text": [
            "Mounted at /content/drive\n"
          ]
        }
      ]
    },
    {
      "cell_type": "code",
      "metadata": {
        "id": "BLnYd7N7WYGA"
      },
      "source": [
        "!python -m pip install --upgrade pip\n",
        "!pip -V\n",
        "!pip install scikit-build\n",
        "!git clone https://github.com/opencv/opencv-python\n",
        "!cd opencv-python && ENABLE_CONTRIB=1 python setup.py bdist_wheel -- -DWITH_CUDA=ON -DENABLE_FAST_MATH=1 -DCUDA_FAST_MATH=1 -DWITH_CUBLAS=1 -DCUDA_ARCH_BIN='6.1 7.5' -- -j8"
      ],
      "execution_count": null,
      "outputs": []
    },
    {
      "cell_type": "code",
      "metadata": {
        "id": "6IhjWCfOnR4v"
      },
      "source": [
        "# import os\n",
        "# dir_name = 'opencv-python/dist'\n",
        "# for dir in os.listdir(dir_name):\n",
        "#     file = os.path.join(dir_name, dir)\n",
        "#     print(file)\n",
        "\n",
        "!pip install opencv-python/dist/opencv_contrib_python-4.5.4.60-cp37-cp37m-linux_x86_64.whl"
      ],
      "execution_count": null,
      "outputs": []
    },
    {
      "cell_type": "code",
      "metadata": {
        "id": "DIyNrRKhi4ln"
      },
      "source": [
        "import cv2\n",
        "cv2.__version__\n",
        "\n",
        "!nvidia-smi"
      ],
      "execution_count": null,
      "outputs": []
    },
    {
      "cell_type": "code",
      "metadata": {
        "id": "4TCgkBZ5xEnG"
      },
      "source": [
        "!sudo curl -L https://yt-dl.org/downloads/latest/youtube-dl -o /usr/local/bin/youtube-dl\n",
        "!sudo chmod a+rx /usr/local/bin/youtube-dl\n",
        "!youtube-dl -f '(bestvideo+bestaudio/best)'  -ciw -o \"%(02-10-2021)s.%(mp4)s\" -v 'https://www.youtube.com/watch?v=Ssr-OCU5EGk'\n",
        "%mv 'NA.NA.mp4' 'video.mp4'"
      ],
      "execution_count": null,
      "outputs": []
    },
    {
      "cell_type": "code",
      "metadata": {
        "id": "sybCmuDsjIG1"
      },
      "source": [
        "config_file = '/content/drive/My Drive/backup/yolo-obj.cfg'\n",
        "weight_file = '/content/drive/My Drive/backup/yolo-obj_best.weights'\n",
        "class_names = '/content/drive/My Drive/backup/obj.names'\n",
        "video_file = 'video.mp4'\n",
        "\n",
        "!sed -i 's/width=608/width=1280/g' '/content/drive/My Drive/backup/yolo-obj.cfg'\n",
        "!sed -i 's/height=608/height=736/g' '/content/drive/My Drive/backup/yolo-obj.cfg'"
      ],
      "execution_count": null,
      "outputs": []
    },
    {
      "cell_type": "code",
      "metadata": {
        "id": "NCnhMHa1xaaW"
      },
      "source": [
        "import time\n",
        "Conf_threshold = 0.25\n",
        "NMS_threshold = 0.4\n",
        "COLORS = [(0, 255, 0), (0, 0, 255), (255, 0, 0),\n",
        "          (255, 255, 0), (255, 0, 255), (0, 255, 255)]\n",
        "\n",
        "class_name = []\n",
        "with open(class_names, 'r') as f:\n",
        "    class_name = [cname.strip() for cname in f.readlines()]\n",
        "# print(class_name)\n",
        "net = cv2.dnn.readNet(weight_file, config_file)\n",
        "net.setPreferableBackend(cv2.dnn.DNN_BACKEND_CUDA)\n",
        "net.setPreferableTarget(cv2.dnn.DNN_TARGET_CUDA_FP16)\n",
        "\n",
        "model = cv2.dnn_DetectionModel(net)\n",
        "model.setInputParams(size=(1280, 736), scale=1/255, swapRB=True)"
      ],
      "execution_count": null,
      "outputs": []
    },
    {
      "cell_type": "code",
      "metadata": {
        "id": "sQPmrADepjGe"
      },
      "source": [
        "cap = cv2.VideoCapture(video_file)\n",
        "starting_time = time.time()\n",
        "frame_counter = 0\n",
        "while True:\n",
        "    ret, frame = cap.read()\n",
        "    gray = cv2.cvtColor(frame, cv2.COLOR_BGR2GRAY)\n",
        "    frame_counter += 1\n",
        "    if ret == False:\n",
        "        break\n",
        "    classes, scores, boxes = model.detect(gray, Conf_threshold, NMS_threshold)\n",
        "    for (classid, score, box) in zip(classes, scores, boxes):\n",
        "        color = COLORS[int(classid) % len(COLORS)]\n",
        "        label = \"%s : %f\" % (class_name[classid[0]], score)\n",
        "        cv2.rectangle(gray, box, color, 1)\n",
        "        cv2.putText(gray, label, (box[0], box[1]-10),\n",
        "                   cv2.FONT_HERSHEY_COMPLEX, 0.3, color, 1)\n",
        "    endingTime = time.time() - starting_time\n",
        "    fps = frame_counter/endingTime\n",
        "    print(f\"FPS = {fps}\")\n",
        "    cv2.putText(gray, f'FPS: {fps}', (20, 50),\n",
        "               cv2.FONT_HERSHEY_COMPLEX, 0.7, (0, 255, 0), 2)\n",
        "    #cv2.imshow('frame', gray)\n",
        "    #key = cv2.waitKey(1)\n",
        "    key = 0\n",
        "    if key == ord('q'):\n",
        "        break\n",
        "cap.release()\n",
        "#cv2.destroyAllWindows()"
      ],
      "execution_count": null,
      "outputs": []
    }
  ]
}